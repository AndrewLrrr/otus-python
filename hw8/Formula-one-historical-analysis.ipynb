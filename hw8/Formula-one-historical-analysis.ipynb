{
 "cells": [
  {
   "cell_type": "markdown",
   "metadata": {},
   "source": [
    "# Исследование статистики чемпионата мира по автогонкам класса Формулы-1 с 1950 по 2017 год"
   ]
  },
  {
   "cell_type": "code",
   "execution_count": 133,
   "metadata": {
    "collapsed": true
   },
   "outputs": [],
   "source": [
    "from pandas import Series, DataFrame, read_csv\n",
    "import pandas as pd\n",
    "import numpy as np\n",
    "import datetime"
   ]
  },
  {
   "cell_type": "markdown",
   "metadata": {},
   "source": [
    "## Для начала общая статистика"
   ]
  },
  {
   "cell_type": "code",
   "execution_count": 238,
   "metadata": {},
   "outputs": [
    {
     "name": "stdout",
     "output_type": "stream",
     "text": [
      "Общее количество проведенных чемпионатов: 68\n",
      "Общее количество проведенных гонок: 970\n",
      "Общее количество гонщиков выходило на старт: 840\n"
     ]
    }
   ],
   "source": [
    "seasons = read_csv('dataset/f1_seasons.csv')\n",
    "races = read_csv('dataset/f1_races.csv')\n",
    "drivers = read_csv('dataset/f1_drivers.csv')\n",
    "races = races.loc[(races['date'] < datetime.datetime.today().strftime('%Y-%m-%d'))]\n",
    "print 'Общее количество проведенных чемпионатов: {}'.format(seasons.shape[0])\n",
    "print 'Общее количество проведенных гонок: {}'.format(races.shape[0])\n",
    "print 'Общее количество гонщиков выходило на старт: {}'.format(drivers.shape[0])"
   ]
  },
  {
   "cell_type": "markdown",
   "metadata": {},
   "source": [
    "## А теперь изучим географию"
   ]
  },
  {
   "cell_type": "markdown",
   "metadata": {},
   "source": [
    "### Сколько всего стран принимали этапы чемпионата мира"
   ]
  },
  {
   "cell_type": "code",
   "execution_count": 141,
   "metadata": {},
   "outputs": [
    {
     "name": "stdout",
     "output_type": "stream",
     "text": [
      "Итого: 32\n"
     ]
    }
   ],
   "source": [
    "circuits = read_csv('dataset/f1_circuits.csv')\n",
    "races = races.merge(circuits, left_on='circuit', right_on='name', how='left')\n",
    "races = races[['year', 'country', 'location']]\n",
    "print 'Итого: {}'.format(races.country.unique().shape[0])"
   ]
  },
  {
   "cell_type": "markdown",
   "metadata": {},
   "source": [
    "### Сколько всего городов принимали этапы чемпионата мира"
   ]
  },
  {
   "cell_type": "code",
   "execution_count": 142,
   "metadata": {},
   "outputs": [
    {
     "name": "stdout",
     "output_type": "stream",
     "text": [
      "Итого: 69\n"
     ]
    }
   ],
   "source": [
    "print 'Итого: {}'.format(races.location.unique().shape[0])"
   ]
  },
  {
   "cell_type": "markdown",
   "metadata": {},
   "source": [
    "### Сделаем группировку по количеству Гранд-при в каждой стране"
   ]
  },
  {
   "cell_type": "code",
   "execution_count": 202,
   "metadata": {},
   "outputs": [
    {
     "data": {
      "text/plain": [
       "Italy           95\n",
       "Germany         76\n",
       "UK              71\n",
       "USA             67\n",
       "Monaco          64\n",
       "Belgium         62\n",
       "France          59\n",
       "Spain           54\n",
       "Canada          48\n",
       "Brazil          44\n",
       "Japan           34\n",
       "Australia       33\n",
       "Hungary         32\n",
       "Netherlands     30\n",
       "Austria         30\n",
       "South Africa    23\n",
       "Argentina       20\n",
       "Malaysia        18\n",
       "Mexico          17\n",
       "Portugal        16\n",
       "China           14\n",
       "Bahrain         13\n",
       "Singapore       10\n",
       "UAE              8\n",
       "Turkey           7\n",
       "Sweden           6\n",
       "Switzerland      5\n",
       "Korea            4\n",
       "Russia           4\n",
       "India            3\n",
       "Azerbaijan       2\n",
       "Morocco          1\n",
       "Name: country, dtype: int64"
      ]
     },
     "execution_count": 202,
     "metadata": {},
     "output_type": "execute_result"
    }
   ],
   "source": [
    "races.country.value_counts()"
   ]
  },
  {
   "cell_type": "markdown",
   "metadata": {},
   "source": [
    "Как видно, больше всего Ф-1 любит приезжать в Италию, а в Марокко, видимо, заехали по случайности."
   ]
  },
  {
   "cell_type": "markdown",
   "metadata": {},
   "source": [
    "### Сделаем группировку по наиболее популярным городам Гранд-при"
   ]
  },
  {
   "cell_type": "code",
   "execution_count": 216,
   "metadata": {},
   "outputs": [
    {
     "data": {
      "text/html": [
       "<div>\n",
       "<style>\n",
       "    .dataframe thead tr:only-child th {\n",
       "        text-align: right;\n",
       "    }\n",
       "\n",
       "    .dataframe thead th {\n",
       "        text-align: left;\n",
       "    }\n",
       "\n",
       "    .dataframe tbody tr th {\n",
       "        vertical-align: top;\n",
       "    }\n",
       "</style>\n",
       "<table border=\"1\" class=\"dataframe\">\n",
       "  <thead>\n",
       "    <tr style=\"text-align: right;\">\n",
       "      <th></th>\n",
       "      <th></th>\n",
       "      <th>count</th>\n",
       "    </tr>\n",
       "    <tr>\n",
       "      <th>location</th>\n",
       "      <th>country</th>\n",
       "      <th></th>\n",
       "    </tr>\n",
       "  </thead>\n",
       "  <tbody>\n",
       "    <tr>\n",
       "      <th>Monza</th>\n",
       "      <th>Italy</th>\n",
       "      <td>67</td>\n",
       "    </tr>\n",
       "    <tr>\n",
       "      <th>Monte-Carlo</th>\n",
       "      <th>Monaco</th>\n",
       "      <td>64</td>\n",
       "    </tr>\n",
       "    <tr>\n",
       "      <th>Silverstone</th>\n",
       "      <th>UK</th>\n",
       "      <td>51</td>\n",
       "    </tr>\n",
       "    <tr>\n",
       "      <th>Spa</th>\n",
       "      <th>Belgium</th>\n",
       "      <td>50</td>\n",
       "    </tr>\n",
       "    <tr>\n",
       "      <th>Nürburg</th>\n",
       "      <th>Germany</th>\n",
       "      <td>40</td>\n",
       "    </tr>\n",
       "    <tr>\n",
       "      <th>Montreal</th>\n",
       "      <th>Canada</th>\n",
       "      <td>38</td>\n",
       "    </tr>\n",
       "    <tr>\n",
       "      <th>Hockenheim</th>\n",
       "      <th>Germany</th>\n",
       "      <td>35</td>\n",
       "    </tr>\n",
       "    <tr>\n",
       "      <th>São Paulo</th>\n",
       "      <th>Brazil</th>\n",
       "      <td>34</td>\n",
       "    </tr>\n",
       "    <tr>\n",
       "      <th>Budapest</th>\n",
       "      <th>Hungary</th>\n",
       "      <td>32</td>\n",
       "    </tr>\n",
       "    <tr>\n",
       "      <th>Zandvoort</th>\n",
       "      <th>Netherlands</th>\n",
       "      <td>30</td>\n",
       "    </tr>\n",
       "  </tbody>\n",
       "</table>\n",
       "</div>"
      ],
      "text/plain": [
       "                         count\n",
       "location    country           \n",
       "Monza       Italy           67\n",
       "Monte-Carlo Monaco          64\n",
       "Silverstone UK              51\n",
       "Spa         Belgium         50\n",
       "Nürburg     Germany         40\n",
       "Montreal    Canada          38\n",
       "Hockenheim  Germany         35\n",
       "São Paulo   Brazil          34\n",
       "Budapest    Hungary         32\n",
       "Zandvoort   Netherlands     30"
      ]
     },
     "execution_count": 216,
     "metadata": {},
     "output_type": "execute_result"
    }
   ],
   "source": [
    "cities = races.groupby(['location', 'country'])['location'] \\\n",
    "    .agg(['count']) \\\n",
    "    .sort_values('count', ascending=False)\n",
    "cities.head(10)"
   ]
  },
  {
   "cell_type": "markdown",
   "metadata": {},
   "source": [
    "Как видно, ни один город не принимал этапы все 68 сезонов подряд, но итальянский город Монца был к этому очень близок."
   ]
  },
  {
   "cell_type": "markdown",
   "metadata": {},
   "source": [
    "### Для наглядности - 10-ка наименее популярных городов"
   ]
  },
  {
   "cell_type": "code",
   "execution_count": 217,
   "metadata": {},
   "outputs": [
    {
     "data": {
      "text/html": [
       "<div>\n",
       "<style>\n",
       "    .dataframe thead tr:only-child th {\n",
       "        text-align: right;\n",
       "    }\n",
       "\n",
       "    .dataframe thead th {\n",
       "        text-align: left;\n",
       "    }\n",
       "\n",
       "    .dataframe tbody tr th {\n",
       "        vertical-align: top;\n",
       "    }\n",
       "</style>\n",
       "<table border=\"1\" class=\"dataframe\">\n",
       "  <thead>\n",
       "    <tr style=\"text-align: right;\">\n",
       "      <th></th>\n",
       "      <th></th>\n",
       "      <th>count</th>\n",
       "    </tr>\n",
       "    <tr>\n",
       "      <th>location</th>\n",
       "      <th>country</th>\n",
       "      <th></th>\n",
       "    </tr>\n",
       "  </thead>\n",
       "  <tbody>\n",
       "    <tr>\n",
       "      <th>Baku</th>\n",
       "      <th>Azerbaijan</th>\n",
       "      <td>2</td>\n",
       "    </tr>\n",
       "    <tr>\n",
       "      <th>Castle Donington</th>\n",
       "      <th>UK</th>\n",
       "      <td>1</td>\n",
       "    </tr>\n",
       "    <tr>\n",
       "      <th>Dallas</th>\n",
       "      <th>USA</th>\n",
       "      <td>1</td>\n",
       "    </tr>\n",
       "    <tr>\n",
       "      <th>Le Mans</th>\n",
       "      <th>France</th>\n",
       "      <td>1</td>\n",
       "    </tr>\n",
       "    <tr>\n",
       "      <th>Styria</th>\n",
       "      <th>Austria</th>\n",
       "      <td>1</td>\n",
       "    </tr>\n",
       "    <tr>\n",
       "      <th>Casablanca</th>\n",
       "      <th>Morocco</th>\n",
       "      <td>1</td>\n",
       "    </tr>\n",
       "    <tr>\n",
       "      <th>Lisbon</th>\n",
       "      <th>Portugal</th>\n",
       "      <td>1</td>\n",
       "    </tr>\n",
       "    <tr>\n",
       "      <th>Florida</th>\n",
       "      <th>USA</th>\n",
       "      <td>1</td>\n",
       "    </tr>\n",
       "    <tr>\n",
       "      <th>Pescara</th>\n",
       "      <th>Italy</th>\n",
       "      <td>1</td>\n",
       "    </tr>\n",
       "    <tr>\n",
       "      <th>Berlin</th>\n",
       "      <th>Germany</th>\n",
       "      <td>1</td>\n",
       "    </tr>\n",
       "  </tbody>\n",
       "</table>\n",
       "</div>"
      ],
      "text/plain": [
       "                             count\n",
       "location         country          \n",
       "Baku             Azerbaijan      2\n",
       "Castle Donington UK              1\n",
       "Dallas           USA             1\n",
       "Le Mans          France          1\n",
       "Styria           Austria         1\n",
       "Casablanca       Morocco         1\n",
       "Lisbon           Portugal        1\n",
       "Florida          USA             1\n",
       "Pescara          Italy           1\n",
       "Berlin           Germany         1"
      ]
     },
     "execution_count": 217,
     "metadata": {},
     "output_type": "execute_result"
    }
   ],
   "source": [
    "cities.tail(10)"
   ]
  },
  {
   "cell_type": "markdown",
   "metadata": {},
   "source": [
    "Если у Баку, как действующему этапу, удастся выйти из этого списка, то в остальных городах появление Ф-1 в ближайшее время не предвидится."
   ]
  },
  {
   "cell_type": "markdown",
   "metadata": {},
   "source": [
    "## С географией более-менее разобрались, можно переходить к гонщикам"
   ]
  },
  {
   "cell_type": "markdown",
   "metadata": {},
   "source": [
    "### Общее количество стран, которые представляли гонщики"
   ]
  },
  {
   "cell_type": "code",
   "execution_count": 239,
   "metadata": {},
   "outputs": [
    {
     "name": "stdout",
     "output_type": "stream",
     "text": [
      "Итого: 41\n"
     ]
    }
   ],
   "source": [
    "print 'Итого: {}'.format(drivers.nationality.unique().shape[0])"
   ]
  },
  {
   "cell_type": "markdown",
   "metadata": {},
   "source": [
    "### Посмотрим статистику распределения гонщиков по странам"
   ]
  },
  {
   "cell_type": "code",
   "execution_count": 240,
   "metadata": {},
   "outputs": [
    {
     "data": {
      "text/plain": [
       "British              162\n",
       "American             157\n",
       "Italian               99\n",
       "French                72\n",
       "German                49\n",
       "Brazilian             31\n",
       "Argentine             24\n",
       "Belgian               23\n",
       "South African         23\n",
       "Swiss                 23\n",
       "Japanese              19\n",
       "Australian            17\n",
       "Dutch                 17\n",
       "Spanish               15\n",
       "Austrian              15\n",
       "Canadian              13\n",
       "Swedish               10\n",
       "Finnish                9\n",
       "New Zealander          8\n",
       "Mexican                6\n",
       "Danish                 5\n",
       "Irish                  5\n",
       "Uruguayan              4\n",
       "Rhodesian              4\n",
       "Portuguese             4\n",
       "Colombian              3\n",
       "East German            3\n",
       "Venezuelan             3\n",
       "Monegasque             3\n",
       "Russian                2\n",
       "Indian                 2\n",
       "Czech                  1\n",
       "Argentine-Italian      1\n",
       "American-Italian       1\n",
       "Chilean                1\n",
       "Polish                 1\n",
       "Liechtensteiner        1\n",
       "Hungarian              1\n",
       "Indonesian             1\n",
       "Malaysian              1\n",
       "Thai                   1\n",
       "Name: nationality, dtype: int64"
      ]
     },
     "execution_count": 240,
     "metadata": {},
     "output_type": "execute_result"
    }
   ],
   "source": [
    "drivers.nationality.value_counts()"
   ]
  },
  {
   "cell_type": "markdown",
   "metadata": {},
   "source": [
    "С большим отрывом лидируют британцы и американцы, но такое количество американцев можно объяснить наличием гонки Инди 500, которая формально входила в чемпионат в 50-е годы, проверим это предположение:"
   ]
  },
  {
   "cell_type": "code",
   "execution_count": 241,
   "metadata": {},
   "outputs": [
    {
     "data": {
      "text/plain": [
       "American             128\n",
       "British               82\n",
       "Italian               29\n",
       "French                26\n",
       "German                21\n",
       "Argentine             16\n",
       "Belgian               13\n",
       "Swiss                  8\n",
       "Spanish                4\n",
       "Brazilian              4\n",
       "Uruguayan              4\n",
       "Australian             4\n",
       "East German            3\n",
       "Dutch                  3\n",
       "Monegasque             2\n",
       "Argentine-Italian      1\n",
       "Portuguese             1\n",
       "Venezuelan             1\n",
       "New Zealander          1\n",
       "Irish                  1\n",
       "American-Italian       1\n",
       "Thai                   1\n",
       "Swedish                1\n",
       "Name: nationality, dtype: int64"
      ]
     },
     "execution_count": 241,
     "metadata": {},
     "output_type": "execute_result"
    }
   ],
   "source": [
    "results = read_csv('dataset/f1_results.csv')\n",
    "\n",
    "drivers_results = results.merge(drivers, on='driverRef', how='inner')\n",
    "\n",
    "drivers_results_50 = drivers_results[['nationality', 'driverRef']] \\\n",
    "    .loc[(drivers_results['year'] >= 1950) & (drivers_results['year'] <= 1960)]\n",
    "\n",
    "drivers_results_50 = drivers_results_50.drop_duplicates()\n",
    "\n",
    "drivers_results_50.nationality.value_counts()"
   ]
  },
  {
   "cell_type": "markdown",
   "metadata": {},
   "source": [
    "Как видим, наша догадка оказалась точна, большинство американцев выступало в Ф-1 с 1950 по 1960 годы, врочем, как и почти половина британцев."
   ]
  },
  {
   "cell_type": "markdown",
   "metadata": {},
   "source": [
    "### Перейдем уже к гонщикам и посмотрим кто и сколько побеждал в автогонках"
   ]
  },
  {
   "cell_type": "code",
   "execution_count": 242,
   "metadata": {},
   "outputs": [
    {
     "data": {
      "text/plain": [
       "Michael Schumacher      91\n",
       "Lewis Hamilton          60\n",
       "Alain Prost             51\n",
       "Sebastian Vettel        46\n",
       "Ayrton Senna            41\n",
       "Fernando Alonso         32\n",
       "Nigel Mansell           31\n",
       "Jackie Stewart          27\n",
       "Niki Lauda              25\n",
       "Jim Clark               25\n",
       "Juan Fangio             24\n",
       "Nico Rosberg            23\n",
       "Nelson Piquet           23\n",
       "Damon Hill              22\n",
       "Mika Häkkinen           20\n",
       "Kimi Räikkönen          20\n",
       "Stirling Moss           16\n",
       "Jenson Button           15\n",
       "Emerson Fittipaldi      14\n",
       "Graham Hill             14\n",
       "Jack Brabham            14\n",
       "Alberto Ascari          13\n",
       "David Coulthard         13\n",
       "Mario Andretti          12\n",
       "Alan Jones              12\n",
       "Carlos Reutemann        12\n",
       "Felipe Massa            11\n",
       "Jacques Villeneuve      11\n",
       "Rubens Barrichello      11\n",
       "James Hunt              10\n",
       "                        ..\n",
       "Pat Flaherty             1\n",
       "Lee Wallard              1\n",
       "Jean-Pierre Beltoise     1\n",
       "Johnnie Parsons          1\n",
       "Vittorio Brambilla       1\n",
       "Rodger Ward              1\n",
       "Sam Hanks                1\n",
       "Troy Ruttman             1\n",
       "Robert Kubica            1\n",
       "Luigi Fagioli            1\n",
       "Luigi Musso              1\n",
       "Heikki Kovalainen        1\n",
       "Jimmy Bryan              1\n",
       "Ludovico Scarfiotti      1\n",
       "Bob Sweikert             1\n",
       "Jarno Trulli             1\n",
       "Gunnar Nilsson           1\n",
       "Olivier Panis            1\n",
       "Pastor Maldonado         1\n",
       "Lorenzo Bandini          1\n",
       "Innes Ireland            1\n",
       "Alessandro Nannini       1\n",
       "Max Verstappen           1\n",
       "Jochen Mass              1\n",
       "Carlos Pace              1\n",
       "Richie Ginther           1\n",
       "Jo Bonnier               1\n",
       "Piero Taruffi            1\n",
       "Giancarlo Baghetti       1\n",
       "Jean Alesi               1\n",
       "Name: driver, Length: 107, dtype: int64"
      ]
     },
     "execution_count": 242,
     "metadata": {},
     "output_type": "execute_result"
    }
   ],
   "source": [
    "drivers_results[drivers_results.position == 1].driver.value_counts()"
   ]
  },
  {
   "cell_type": "markdown",
   "metadata": {},
   "source": [
    "Как видно, больше всего побед у Михаэля Шумахера (но это и так все знают). Посмотрим, кто рекордсмен из действующих гонщиков:"
   ]
  },
  {
   "cell_type": "code",
   "execution_count": 243,
   "metadata": {},
   "outputs": [
    {
     "data": {
      "text/plain": [
       "Lewis Hamilton      60\n",
       "Sebastian Vettel    46\n",
       "Fernando Alonso     32\n",
       "Kimi Räikkönen      20\n",
       "Jenson Button       15\n",
       "Felipe Massa        11\n",
       "Daniel Ricciardo     5\n",
       "Valtteri Bottas      2\n",
       "Max Verstappen       1\n",
       "Name: driver, dtype: int64"
      ]
     },
     "execution_count": 243,
     "metadata": {},
     "output_type": "execute_result"
    }
   ],
   "source": [
    "drivers_2017 = drivers_results[drivers_results.year==2017].driverRef.drop_duplicates()\n",
    "drivers_results[(drivers_results.position == 1) & (drivers_results.driverRef.isin(drivers_2017))] \\\n",
    "    .driver.value_counts()"
   ]
  },
  {
   "cell_type": "markdown",
   "metadata": {},
   "source": [
    "Лидирует Льюис Хэмильтон, который в общем списке на втором месте."
   ]
  },
  {
   "cell_type": "markdown",
   "metadata": {},
   "source": [
    "### Построим небольшую статистику по победителям"
   ]
  },
  {
   "cell_type": "code",
   "execution_count": 290,
   "metadata": {},
   "outputs": [
    {
     "name": "stdout",
     "output_type": "stream",
     "text": [
      "Итого: 107\n",
      "Соотношение участников/победителей: 7.85046728972\n"
     ]
    }
   ],
   "source": [
    "total_winners = drivers_results[drivers_results.position==1].driverRef.drop_duplicates().shape[0]\n",
    "print 'Итого: {}'.format(total_winners)\n",
    "print 'Соотношение участников/победителей: {}'.format(\n",
    "    float(drivers_results.driverRef.drop_duplicates().shape[0]) / float(total_winners))"
   ]
  },
  {
   "cell_type": "markdown",
   "metadata": {},
   "source": [
    "Получается, что каждый 8 гонщик имеет шансы хотя бы на одну победу в ГП."
   ]
  },
  {
   "cell_type": "markdown",
   "metadata": {},
   "source": [
    "### Окей, с победителями понятно, теперь проведем исследование по чемпионским титулам"
   ]
  },
  {
   "cell_type": "code",
   "execution_count": null,
   "metadata": {
    "collapsed": true
   },
   "outputs": [],
   "source": []
  }
 ],
 "metadata": {
  "kernelspec": {
   "display_name": "Python 2",
   "language": "python",
   "name": "python2"
  },
  "language_info": {
   "codemirror_mode": {
    "name": "ipython",
    "version": 2
   },
   "file_extension": ".py",
   "mimetype": "text/x-python",
   "name": "python",
   "nbconvert_exporter": "python",
   "pygments_lexer": "ipython2",
   "version": "2.7.13"
  }
 },
 "nbformat": 4,
 "nbformat_minor": 2
}
